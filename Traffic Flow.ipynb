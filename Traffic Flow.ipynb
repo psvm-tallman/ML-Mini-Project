{
 "cells": [
  {
   "cell_type": "code",
   "execution_count": 2,
   "metadata": {},
   "outputs": [],
   "source": [
    "import pandas as pd\n",
    "import numpy as np"
   ]
  },
  {
   "cell_type": "markdown",
   "metadata": {},
   "source": [
    "Exploratory Data Analysis"
   ]
  },
  {
   "cell_type": "code",
   "execution_count": 3,
   "metadata": {},
   "outputs": [
    {
     "data": {
      "text/html": [
       "<div>\n",
       "<style scoped>\n",
       "    .dataframe tbody tr th:only-of-type {\n",
       "        vertical-align: middle;\n",
       "    }\n",
       "\n",
       "    .dataframe tbody tr th {\n",
       "        vertical-align: top;\n",
       "    }\n",
       "\n",
       "    .dataframe thead th {\n",
       "        text-align: right;\n",
       "    }\n",
       "</style>\n",
       "<table border=\"1\" class=\"dataframe\">\n",
       "  <thead>\n",
       "    <tr style=\"text-align: right;\">\n",
       "      <th></th>\n",
       "      <th>Date</th>\n",
       "      <th>Area Name</th>\n",
       "      <th>Road/Intersection Name</th>\n",
       "      <th>Traffic Volume</th>\n",
       "      <th>Average Speed</th>\n",
       "      <th>Travel Time Index</th>\n",
       "      <th>Congestion Level</th>\n",
       "      <th>Road Capacity Utilization</th>\n",
       "      <th>Incident Reports</th>\n",
       "      <th>Environmental Impact</th>\n",
       "      <th>Public Transport Usage</th>\n",
       "      <th>Traffic Signal Compliance</th>\n",
       "      <th>Parking Usage</th>\n",
       "      <th>Pedestrian and Cyclist Count</th>\n",
       "      <th>Weather Conditions</th>\n",
       "      <th>Roadwork and Construction Activity</th>\n",
       "    </tr>\n",
       "  </thead>\n",
       "  <tbody>\n",
       "    <tr>\n",
       "      <th>0</th>\n",
       "      <td>2022-01-01</td>\n",
       "      <td>Indiranagar</td>\n",
       "      <td>100 Feet Road</td>\n",
       "      <td>50590</td>\n",
       "      <td>50.230299</td>\n",
       "      <td>1.500000</td>\n",
       "      <td>100.000000</td>\n",
       "      <td>100.000000</td>\n",
       "      <td>0</td>\n",
       "      <td>151.180</td>\n",
       "      <td>70.632330</td>\n",
       "      <td>84.044600</td>\n",
       "      <td>85.403629</td>\n",
       "      <td>111</td>\n",
       "      <td>Clear</td>\n",
       "      <td>No</td>\n",
       "    </tr>\n",
       "    <tr>\n",
       "      <th>1</th>\n",
       "      <td>2022-01-01</td>\n",
       "      <td>Indiranagar</td>\n",
       "      <td>CMH Road</td>\n",
       "      <td>30825</td>\n",
       "      <td>29.377125</td>\n",
       "      <td>1.500000</td>\n",
       "      <td>100.000000</td>\n",
       "      <td>100.000000</td>\n",
       "      <td>1</td>\n",
       "      <td>111.650</td>\n",
       "      <td>41.924899</td>\n",
       "      <td>91.407038</td>\n",
       "      <td>59.983689</td>\n",
       "      <td>100</td>\n",
       "      <td>Clear</td>\n",
       "      <td>No</td>\n",
       "    </tr>\n",
       "    <tr>\n",
       "      <th>2</th>\n",
       "      <td>2022-01-01</td>\n",
       "      <td>Whitefield</td>\n",
       "      <td>Marathahalli Bridge</td>\n",
       "      <td>7399</td>\n",
       "      <td>54.474398</td>\n",
       "      <td>1.039069</td>\n",
       "      <td>28.347994</td>\n",
       "      <td>36.396525</td>\n",
       "      <td>0</td>\n",
       "      <td>64.798</td>\n",
       "      <td>44.662384</td>\n",
       "      <td>61.375541</td>\n",
       "      <td>95.466020</td>\n",
       "      <td>189</td>\n",
       "      <td>Clear</td>\n",
       "      <td>No</td>\n",
       "    </tr>\n",
       "    <tr>\n",
       "      <th>3</th>\n",
       "      <td>2022-01-01</td>\n",
       "      <td>Koramangala</td>\n",
       "      <td>Sony World Junction</td>\n",
       "      <td>60874</td>\n",
       "      <td>43.817610</td>\n",
       "      <td>1.500000</td>\n",
       "      <td>100.000000</td>\n",
       "      <td>100.000000</td>\n",
       "      <td>1</td>\n",
       "      <td>171.748</td>\n",
       "      <td>32.773123</td>\n",
       "      <td>75.547092</td>\n",
       "      <td>63.567452</td>\n",
       "      <td>111</td>\n",
       "      <td>Clear</td>\n",
       "      <td>No</td>\n",
       "    </tr>\n",
       "    <tr>\n",
       "      <th>4</th>\n",
       "      <td>2022-01-01</td>\n",
       "      <td>Koramangala</td>\n",
       "      <td>Sarjapur Road</td>\n",
       "      <td>57292</td>\n",
       "      <td>41.116763</td>\n",
       "      <td>1.500000</td>\n",
       "      <td>100.000000</td>\n",
       "      <td>100.000000</td>\n",
       "      <td>3</td>\n",
       "      <td>164.584</td>\n",
       "      <td>35.092601</td>\n",
       "      <td>64.634762</td>\n",
       "      <td>93.155171</td>\n",
       "      <td>104</td>\n",
       "      <td>Clear</td>\n",
       "      <td>No</td>\n",
       "    </tr>\n",
       "    <tr>\n",
       "      <th>5</th>\n",
       "      <td>2022-01-01</td>\n",
       "      <td>M.G. Road</td>\n",
       "      <td>Trinity Circle</td>\n",
       "      <td>47848</td>\n",
       "      <td>34.241963</td>\n",
       "      <td>1.500000</td>\n",
       "      <td>100.000000</td>\n",
       "      <td>100.000000</td>\n",
       "      <td>3</td>\n",
       "      <td>145.696</td>\n",
       "      <td>39.927871</td>\n",
       "      <td>61.016765</td>\n",
       "      <td>55.394571</td>\n",
       "      <td>94</td>\n",
       "      <td>Overcast</td>\n",
       "      <td>No</td>\n",
       "    </tr>\n",
       "    <tr>\n",
       "      <th>6</th>\n",
       "      <td>2022-01-01</td>\n",
       "      <td>M.G. Road</td>\n",
       "      <td>Anil Kumble Circle</td>\n",
       "      <td>36574</td>\n",
       "      <td>29.982430</td>\n",
       "      <td>1.500000</td>\n",
       "      <td>100.000000</td>\n",
       "      <td>100.000000</td>\n",
       "      <td>3</td>\n",
       "      <td>123.148</td>\n",
       "      <td>72.479130</td>\n",
       "      <td>81.573690</td>\n",
       "      <td>90.372008</td>\n",
       "      <td>115</td>\n",
       "      <td>Clear</td>\n",
       "      <td>No</td>\n",
       "    </tr>\n",
       "    <tr>\n",
       "      <th>7</th>\n",
       "      <td>2022-01-01</td>\n",
       "      <td>Jayanagar</td>\n",
       "      <td>Jayanagar 4th Block</td>\n",
       "      <td>25379</td>\n",
       "      <td>38.455179</td>\n",
       "      <td>1.500000</td>\n",
       "      <td>79.038823</td>\n",
       "      <td>100.000000</td>\n",
       "      <td>2</td>\n",
       "      <td>100.758</td>\n",
       "      <td>46.315344</td>\n",
       "      <td>88.120758</td>\n",
       "      <td>68.181480</td>\n",
       "      <td>92</td>\n",
       "      <td>Clear</td>\n",
       "      <td>No</td>\n",
       "    </tr>\n",
       "    <tr>\n",
       "      <th>8</th>\n",
       "      <td>2022-01-01</td>\n",
       "      <td>Jayanagar</td>\n",
       "      <td>South End Circle</td>\n",
       "      <td>25022</td>\n",
       "      <td>35.039373</td>\n",
       "      <td>1.500000</td>\n",
       "      <td>78.979596</td>\n",
       "      <td>100.000000</td>\n",
       "      <td>1</td>\n",
       "      <td>100.044</td>\n",
       "      <td>44.261693</td>\n",
       "      <td>99.426018</td>\n",
       "      <td>62.102764</td>\n",
       "      <td>105</td>\n",
       "      <td>Clear</td>\n",
       "      <td>No</td>\n",
       "    </tr>\n",
       "    <tr>\n",
       "      <th>9</th>\n",
       "      <td>2022-01-01</td>\n",
       "      <td>Hebbal</td>\n",
       "      <td>Hebbal Flyover</td>\n",
       "      <td>31760</td>\n",
       "      <td>56.904556</td>\n",
       "      <td>1.500000</td>\n",
       "      <td>97.672462</td>\n",
       "      <td>100.000000</td>\n",
       "      <td>1</td>\n",
       "      <td>113.520</td>\n",
       "      <td>12.854260</td>\n",
       "      <td>83.635718</td>\n",
       "      <td>83.878218</td>\n",
       "      <td>91</td>\n",
       "      <td>Clear</td>\n",
       "      <td>No</td>\n",
       "    </tr>\n",
       "  </tbody>\n",
       "</table>\n",
       "</div>"
      ],
      "text/plain": [
       "         Date    Area Name Road/Intersection Name  Traffic Volume  \\\n",
       "0  2022-01-01  Indiranagar          100 Feet Road           50590   \n",
       "1  2022-01-01  Indiranagar               CMH Road           30825   \n",
       "2  2022-01-01   Whitefield    Marathahalli Bridge            7399   \n",
       "3  2022-01-01  Koramangala    Sony World Junction           60874   \n",
       "4  2022-01-01  Koramangala          Sarjapur Road           57292   \n",
       "5  2022-01-01    M.G. Road         Trinity Circle           47848   \n",
       "6  2022-01-01    M.G. Road     Anil Kumble Circle           36574   \n",
       "7  2022-01-01    Jayanagar    Jayanagar 4th Block           25379   \n",
       "8  2022-01-01    Jayanagar       South End Circle           25022   \n",
       "9  2022-01-01       Hebbal         Hebbal Flyover           31760   \n",
       "\n",
       "   Average Speed  Travel Time Index  Congestion Level  \\\n",
       "0      50.230299           1.500000        100.000000   \n",
       "1      29.377125           1.500000        100.000000   \n",
       "2      54.474398           1.039069         28.347994   \n",
       "3      43.817610           1.500000        100.000000   \n",
       "4      41.116763           1.500000        100.000000   \n",
       "5      34.241963           1.500000        100.000000   \n",
       "6      29.982430           1.500000        100.000000   \n",
       "7      38.455179           1.500000         79.038823   \n",
       "8      35.039373           1.500000         78.979596   \n",
       "9      56.904556           1.500000         97.672462   \n",
       "\n",
       "   Road Capacity Utilization  Incident Reports  Environmental Impact  \\\n",
       "0                 100.000000                 0               151.180   \n",
       "1                 100.000000                 1               111.650   \n",
       "2                  36.396525                 0                64.798   \n",
       "3                 100.000000                 1               171.748   \n",
       "4                 100.000000                 3               164.584   \n",
       "5                 100.000000                 3               145.696   \n",
       "6                 100.000000                 3               123.148   \n",
       "7                 100.000000                 2               100.758   \n",
       "8                 100.000000                 1               100.044   \n",
       "9                 100.000000                 1               113.520   \n",
       "\n",
       "   Public Transport Usage  Traffic Signal Compliance  Parking Usage  \\\n",
       "0               70.632330                  84.044600      85.403629   \n",
       "1               41.924899                  91.407038      59.983689   \n",
       "2               44.662384                  61.375541      95.466020   \n",
       "3               32.773123                  75.547092      63.567452   \n",
       "4               35.092601                  64.634762      93.155171   \n",
       "5               39.927871                  61.016765      55.394571   \n",
       "6               72.479130                  81.573690      90.372008   \n",
       "7               46.315344                  88.120758      68.181480   \n",
       "8               44.261693                  99.426018      62.102764   \n",
       "9               12.854260                  83.635718      83.878218   \n",
       "\n",
       "   Pedestrian and Cyclist Count Weather Conditions  \\\n",
       "0                           111              Clear   \n",
       "1                           100              Clear   \n",
       "2                           189              Clear   \n",
       "3                           111              Clear   \n",
       "4                           104              Clear   \n",
       "5                            94           Overcast   \n",
       "6                           115              Clear   \n",
       "7                            92              Clear   \n",
       "8                           105              Clear   \n",
       "9                            91              Clear   \n",
       "\n",
       "  Roadwork and Construction Activity  \n",
       "0                                 No  \n",
       "1                                 No  \n",
       "2                                 No  \n",
       "3                                 No  \n",
       "4                                 No  \n",
       "5                                 No  \n",
       "6                                 No  \n",
       "7                                 No  \n",
       "8                                 No  \n",
       "9                                 No  "
      ]
     },
     "execution_count": 3,
     "metadata": {},
     "output_type": "execute_result"
    }
   ],
   "source": [
    "df = pd.read_csv('/home/tallman/ML/ML-mini-project/Dataset/Banglore_traffic_Dataset.csv')\n",
    "df.head(10)"
   ]
  },
  {
   "cell_type": "code",
   "execution_count": 11,
   "metadata": {},
   "outputs": [
    {
     "data": {
      "text/plain": [
       "(8936, 16)"
      ]
     },
     "execution_count": 11,
     "metadata": {},
     "output_type": "execute_result"
    }
   ],
   "source": [
    "df.shape"
   ]
  },
  {
   "cell_type": "code",
   "execution_count": 12,
   "metadata": {},
   "outputs": [
    {
     "data": {
      "text/plain": [
       "Index(['Date', 'Area Name', 'Road/Intersection Name', 'Traffic Volume',\n",
       "       'Average Speed', 'Travel Time Index', 'Congestion Level',\n",
       "       'Road Capacity Utilization', 'Incident Reports', 'Environmental Impact',\n",
       "       'Public Transport Usage', 'Traffic Signal Compliance', 'Parking Usage',\n",
       "       'Pedestrian and Cyclist Count', 'Weather Conditions',\n",
       "       'Roadwork and Construction Activity'],\n",
       "      dtype='object')"
      ]
     },
     "execution_count": 12,
     "metadata": {},
     "output_type": "execute_result"
    }
   ],
   "source": [
    "df.columns"
   ]
  },
  {
   "cell_type": "code",
   "execution_count": 13,
   "metadata": {},
   "outputs": [
    {
     "data": {
      "text/plain": [
       "Date                                   object\n",
       "Area Name                              object\n",
       "Road/Intersection Name                 object\n",
       "Traffic Volume                          int64\n",
       "Average Speed                         float64\n",
       "Travel Time Index                     float64\n",
       "Congestion Level                      float64\n",
       "Road Capacity Utilization             float64\n",
       "Incident Reports                        int64\n",
       "Environmental Impact                  float64\n",
       "Public Transport Usage                float64\n",
       "Traffic Signal Compliance             float64\n",
       "Parking Usage                         float64\n",
       "Pedestrian and Cyclist Count            int64\n",
       "Weather Conditions                     object\n",
       "Roadwork and Construction Activity     object\n",
       "dtype: object"
      ]
     },
     "execution_count": 13,
     "metadata": {},
     "output_type": "execute_result"
    }
   ],
   "source": [
    "df.dtypes"
   ]
  },
  {
   "cell_type": "code",
   "execution_count": 14,
   "metadata": {},
   "outputs": [
    {
     "data": {
      "text/plain": [
       "<bound method NDFrame.describe of             Date        Area Name Road/Intersection Name  Traffic Volume  \\\n",
       "0     2022-01-01      Indiranagar          100 Feet Road           50590   \n",
       "1     2022-01-01      Indiranagar               CMH Road           30825   \n",
       "2     2022-01-01       Whitefield    Marathahalli Bridge            7399   \n",
       "3     2022-01-01      Koramangala    Sony World Junction           60874   \n",
       "4     2022-01-01      Koramangala          Sarjapur Road           57292   \n",
       "...          ...              ...                    ...             ...   \n",
       "8931  2024-08-09  Electronic City             Hosur Road           11387   \n",
       "8932  2024-08-09        M.G. Road         Trinity Circle           36477   \n",
       "8933  2024-08-09        M.G. Road     Anil Kumble Circle           42822   \n",
       "8934  2024-08-09        Jayanagar       South End Circle           20540   \n",
       "8935  2024-08-09     Yeshwanthpur    Yeshwanthpur Circle           14705   \n",
       "\n",
       "      Average Speed  Travel Time Index  Congestion Level  \\\n",
       "0         50.230299           1.500000        100.000000   \n",
       "1         29.377125           1.500000        100.000000   \n",
       "2         54.474398           1.039069         28.347994   \n",
       "3         43.817610           1.500000        100.000000   \n",
       "4         41.116763           1.500000        100.000000   \n",
       "...             ...                ...               ...   \n",
       "8931      23.440276           1.262384         35.871483   \n",
       "8932      45.168429           1.500000        100.000000   \n",
       "8933      22.028609           1.500000        100.000000   \n",
       "8934      52.254798           1.020520         72.639152   \n",
       "8935      31.128967           1.048720         43.409821   \n",
       "\n",
       "      Road Capacity Utilization  Incident Reports  Environmental Impact  \\\n",
       "0                    100.000000                 0               151.180   \n",
       "1                    100.000000                 1               111.650   \n",
       "2                     36.396525                 0                64.798   \n",
       "3                    100.000000                 1               171.748   \n",
       "4                    100.000000                 3               164.584   \n",
       "...                         ...               ...                   ...   \n",
       "8931                  57.354487                 1                72.774   \n",
       "8932                 100.000000                 3               122.954   \n",
       "8933                 100.000000                 1               135.644   \n",
       "8934                  97.845527                 2                91.080   \n",
       "8935                  77.734621                 1                79.410   \n",
       "\n",
       "      Public Transport Usage  Traffic Signal Compliance  Parking Usage  \\\n",
       "0                  70.632330                  84.044600      85.403629   \n",
       "1                  41.924899                  91.407038      59.983689   \n",
       "2                  44.662384                  61.375541      95.466020   \n",
       "3                  32.773123                  75.547092      63.567452   \n",
       "4                  35.092601                  64.634762      93.155171   \n",
       "...                      ...                        ...            ...   \n",
       "8931               21.523289                  83.530352      97.898279   \n",
       "8932               29.822312                  60.738488      60.355967   \n",
       "8933               43.185905                  85.321627      61.333731   \n",
       "8934               44.416043                  89.586947      79.197198   \n",
       "8935               26.616725                  80.778753      60.602672   \n",
       "\n",
       "      Pedestrian and Cyclist Count Weather Conditions  \\\n",
       "0                              111              Clear   \n",
       "1                              100              Clear   \n",
       "2                              189              Clear   \n",
       "3                              111              Clear   \n",
       "4                              104              Clear   \n",
       "...                            ...                ...   \n",
       "8931                           211                Fog   \n",
       "8932                            95              Clear   \n",
       "8933                           110              Clear   \n",
       "8934                            94              Clear   \n",
       "8935                           201               Rain   \n",
       "\n",
       "     Roadwork and Construction Activity  \n",
       "0                                    No  \n",
       "1                                    No  \n",
       "2                                    No  \n",
       "3                                    No  \n",
       "4                                    No  \n",
       "...                                 ...  \n",
       "8931                                 No  \n",
       "8932                                 No  \n",
       "8933                                 No  \n",
       "8934                                 No  \n",
       "8935                                 No  \n",
       "\n",
       "[8936 rows x 16 columns]>"
      ]
     },
     "execution_count": 14,
     "metadata": {},
     "output_type": "execute_result"
    }
   ],
   "source": [
    "df.describe"
   ]
  },
  {
   "cell_type": "code",
   "execution_count": 15,
   "metadata": {},
   "outputs": [
    {
     "data": {
      "text/html": [
       "<div>\n",
       "<style scoped>\n",
       "    .dataframe tbody tr th:only-of-type {\n",
       "        vertical-align: middle;\n",
       "    }\n",
       "\n",
       "    .dataframe tbody tr th {\n",
       "        vertical-align: top;\n",
       "    }\n",
       "\n",
       "    .dataframe thead th {\n",
       "        text-align: right;\n",
       "    }\n",
       "</style>\n",
       "<table border=\"1\" class=\"dataframe\">\n",
       "  <thead>\n",
       "    <tr style=\"text-align: right;\">\n",
       "      <th></th>\n",
       "      <th>Date</th>\n",
       "      <th>Area Name</th>\n",
       "      <th>Road/Intersection Name</th>\n",
       "      <th>Traffic Volume</th>\n",
       "      <th>Average Speed</th>\n",
       "      <th>Travel Time Index</th>\n",
       "      <th>Congestion Level</th>\n",
       "      <th>Road Capacity Utilization</th>\n",
       "      <th>Incident Reports</th>\n",
       "      <th>Environmental Impact</th>\n",
       "      <th>Public Transport Usage</th>\n",
       "      <th>Traffic Signal Compliance</th>\n",
       "      <th>Parking Usage</th>\n",
       "      <th>Pedestrian and Cyclist Count</th>\n",
       "      <th>Weather Conditions</th>\n",
       "      <th>Roadwork and Construction Activity</th>\n",
       "    </tr>\n",
       "  </thead>\n",
       "  <tbody>\n",
       "    <tr>\n",
       "      <th>0</th>\n",
       "      <td>False</td>\n",
       "      <td>False</td>\n",
       "      <td>False</td>\n",
       "      <td>False</td>\n",
       "      <td>False</td>\n",
       "      <td>False</td>\n",
       "      <td>False</td>\n",
       "      <td>False</td>\n",
       "      <td>False</td>\n",
       "      <td>False</td>\n",
       "      <td>False</td>\n",
       "      <td>False</td>\n",
       "      <td>False</td>\n",
       "      <td>False</td>\n",
       "      <td>False</td>\n",
       "      <td>False</td>\n",
       "    </tr>\n",
       "    <tr>\n",
       "      <th>1</th>\n",
       "      <td>False</td>\n",
       "      <td>False</td>\n",
       "      <td>False</td>\n",
       "      <td>False</td>\n",
       "      <td>False</td>\n",
       "      <td>False</td>\n",
       "      <td>False</td>\n",
       "      <td>False</td>\n",
       "      <td>False</td>\n",
       "      <td>False</td>\n",
       "      <td>False</td>\n",
       "      <td>False</td>\n",
       "      <td>False</td>\n",
       "      <td>False</td>\n",
       "      <td>False</td>\n",
       "      <td>False</td>\n",
       "    </tr>\n",
       "    <tr>\n",
       "      <th>2</th>\n",
       "      <td>False</td>\n",
       "      <td>False</td>\n",
       "      <td>False</td>\n",
       "      <td>False</td>\n",
       "      <td>False</td>\n",
       "      <td>False</td>\n",
       "      <td>False</td>\n",
       "      <td>False</td>\n",
       "      <td>False</td>\n",
       "      <td>False</td>\n",
       "      <td>False</td>\n",
       "      <td>False</td>\n",
       "      <td>False</td>\n",
       "      <td>False</td>\n",
       "      <td>False</td>\n",
       "      <td>False</td>\n",
       "    </tr>\n",
       "    <tr>\n",
       "      <th>3</th>\n",
       "      <td>False</td>\n",
       "      <td>False</td>\n",
       "      <td>False</td>\n",
       "      <td>False</td>\n",
       "      <td>False</td>\n",
       "      <td>False</td>\n",
       "      <td>False</td>\n",
       "      <td>False</td>\n",
       "      <td>False</td>\n",
       "      <td>False</td>\n",
       "      <td>False</td>\n",
       "      <td>False</td>\n",
       "      <td>False</td>\n",
       "      <td>False</td>\n",
       "      <td>False</td>\n",
       "      <td>False</td>\n",
       "    </tr>\n",
       "    <tr>\n",
       "      <th>4</th>\n",
       "      <td>False</td>\n",
       "      <td>False</td>\n",
       "      <td>False</td>\n",
       "      <td>False</td>\n",
       "      <td>False</td>\n",
       "      <td>False</td>\n",
       "      <td>False</td>\n",
       "      <td>False</td>\n",
       "      <td>False</td>\n",
       "      <td>False</td>\n",
       "      <td>False</td>\n",
       "      <td>False</td>\n",
       "      <td>False</td>\n",
       "      <td>False</td>\n",
       "      <td>False</td>\n",
       "      <td>False</td>\n",
       "    </tr>\n",
       "    <tr>\n",
       "      <th>...</th>\n",
       "      <td>...</td>\n",
       "      <td>...</td>\n",
       "      <td>...</td>\n",
       "      <td>...</td>\n",
       "      <td>...</td>\n",
       "      <td>...</td>\n",
       "      <td>...</td>\n",
       "      <td>...</td>\n",
       "      <td>...</td>\n",
       "      <td>...</td>\n",
       "      <td>...</td>\n",
       "      <td>...</td>\n",
       "      <td>...</td>\n",
       "      <td>...</td>\n",
       "      <td>...</td>\n",
       "      <td>...</td>\n",
       "    </tr>\n",
       "    <tr>\n",
       "      <th>8931</th>\n",
       "      <td>False</td>\n",
       "      <td>False</td>\n",
       "      <td>False</td>\n",
       "      <td>False</td>\n",
       "      <td>False</td>\n",
       "      <td>False</td>\n",
       "      <td>False</td>\n",
       "      <td>False</td>\n",
       "      <td>False</td>\n",
       "      <td>False</td>\n",
       "      <td>False</td>\n",
       "      <td>False</td>\n",
       "      <td>False</td>\n",
       "      <td>False</td>\n",
       "      <td>False</td>\n",
       "      <td>False</td>\n",
       "    </tr>\n",
       "    <tr>\n",
       "      <th>8932</th>\n",
       "      <td>False</td>\n",
       "      <td>False</td>\n",
       "      <td>False</td>\n",
       "      <td>False</td>\n",
       "      <td>False</td>\n",
       "      <td>False</td>\n",
       "      <td>False</td>\n",
       "      <td>False</td>\n",
       "      <td>False</td>\n",
       "      <td>False</td>\n",
       "      <td>False</td>\n",
       "      <td>False</td>\n",
       "      <td>False</td>\n",
       "      <td>False</td>\n",
       "      <td>False</td>\n",
       "      <td>False</td>\n",
       "    </tr>\n",
       "    <tr>\n",
       "      <th>8933</th>\n",
       "      <td>False</td>\n",
       "      <td>False</td>\n",
       "      <td>False</td>\n",
       "      <td>False</td>\n",
       "      <td>False</td>\n",
       "      <td>False</td>\n",
       "      <td>False</td>\n",
       "      <td>False</td>\n",
       "      <td>False</td>\n",
       "      <td>False</td>\n",
       "      <td>False</td>\n",
       "      <td>False</td>\n",
       "      <td>False</td>\n",
       "      <td>False</td>\n",
       "      <td>False</td>\n",
       "      <td>False</td>\n",
       "    </tr>\n",
       "    <tr>\n",
       "      <th>8934</th>\n",
       "      <td>False</td>\n",
       "      <td>False</td>\n",
       "      <td>False</td>\n",
       "      <td>False</td>\n",
       "      <td>False</td>\n",
       "      <td>False</td>\n",
       "      <td>False</td>\n",
       "      <td>False</td>\n",
       "      <td>False</td>\n",
       "      <td>False</td>\n",
       "      <td>False</td>\n",
       "      <td>False</td>\n",
       "      <td>False</td>\n",
       "      <td>False</td>\n",
       "      <td>False</td>\n",
       "      <td>False</td>\n",
       "    </tr>\n",
       "    <tr>\n",
       "      <th>8935</th>\n",
       "      <td>False</td>\n",
       "      <td>False</td>\n",
       "      <td>False</td>\n",
       "      <td>False</td>\n",
       "      <td>False</td>\n",
       "      <td>False</td>\n",
       "      <td>False</td>\n",
       "      <td>False</td>\n",
       "      <td>False</td>\n",
       "      <td>False</td>\n",
       "      <td>False</td>\n",
       "      <td>False</td>\n",
       "      <td>False</td>\n",
       "      <td>False</td>\n",
       "      <td>False</td>\n",
       "      <td>False</td>\n",
       "    </tr>\n",
       "  </tbody>\n",
       "</table>\n",
       "<p>8936 rows × 16 columns</p>\n",
       "</div>"
      ],
      "text/plain": [
       "       Date  Area Name  Road/Intersection Name  Traffic Volume  Average Speed  \\\n",
       "0     False      False                   False           False          False   \n",
       "1     False      False                   False           False          False   \n",
       "2     False      False                   False           False          False   \n",
       "3     False      False                   False           False          False   \n",
       "4     False      False                   False           False          False   \n",
       "...     ...        ...                     ...             ...            ...   \n",
       "8931  False      False                   False           False          False   \n",
       "8932  False      False                   False           False          False   \n",
       "8933  False      False                   False           False          False   \n",
       "8934  False      False                   False           False          False   \n",
       "8935  False      False                   False           False          False   \n",
       "\n",
       "      Travel Time Index  Congestion Level  Road Capacity Utilization  \\\n",
       "0                 False             False                      False   \n",
       "1                 False             False                      False   \n",
       "2                 False             False                      False   \n",
       "3                 False             False                      False   \n",
       "4                 False             False                      False   \n",
       "...                 ...               ...                        ...   \n",
       "8931              False             False                      False   \n",
       "8932              False             False                      False   \n",
       "8933              False             False                      False   \n",
       "8934              False             False                      False   \n",
       "8935              False             False                      False   \n",
       "\n",
       "      Incident Reports  Environmental Impact  Public Transport Usage  \\\n",
       "0                False                 False                   False   \n",
       "1                False                 False                   False   \n",
       "2                False                 False                   False   \n",
       "3                False                 False                   False   \n",
       "4                False                 False                   False   \n",
       "...                ...                   ...                     ...   \n",
       "8931             False                 False                   False   \n",
       "8932             False                 False                   False   \n",
       "8933             False                 False                   False   \n",
       "8934             False                 False                   False   \n",
       "8935             False                 False                   False   \n",
       "\n",
       "      Traffic Signal Compliance  Parking Usage  Pedestrian and Cyclist Count  \\\n",
       "0                         False          False                         False   \n",
       "1                         False          False                         False   \n",
       "2                         False          False                         False   \n",
       "3                         False          False                         False   \n",
       "4                         False          False                         False   \n",
       "...                         ...            ...                           ...   \n",
       "8931                      False          False                         False   \n",
       "8932                      False          False                         False   \n",
       "8933                      False          False                         False   \n",
       "8934                      False          False                         False   \n",
       "8935                      False          False                         False   \n",
       "\n",
       "      Weather Conditions  Roadwork and Construction Activity  \n",
       "0                  False                               False  \n",
       "1                  False                               False  \n",
       "2                  False                               False  \n",
       "3                  False                               False  \n",
       "4                  False                               False  \n",
       "...                  ...                                 ...  \n",
       "8931               False                               False  \n",
       "8932               False                               False  \n",
       "8933               False                               False  \n",
       "8934               False                               False  \n",
       "8935               False                               False  \n",
       "\n",
       "[8936 rows x 16 columns]"
      ]
     },
     "execution_count": 15,
     "metadata": {},
     "output_type": "execute_result"
    }
   ],
   "source": [
    "df.isnull()"
   ]
  },
  {
   "cell_type": "code",
   "execution_count": 18,
   "metadata": {},
   "outputs": [
    {
     "data": {
      "text/plain": [
       "Date                                  0\n",
       "Area Name                             0\n",
       "Road/Intersection Name                0\n",
       "Traffic Volume                        0\n",
       "Average Speed                         0\n",
       "Travel Time Index                     0\n",
       "Congestion Level                      0\n",
       "Road Capacity Utilization             0\n",
       "Incident Reports                      0\n",
       "Environmental Impact                  0\n",
       "Public Transport Usage                0\n",
       "Traffic Signal Compliance             0\n",
       "Parking Usage                         0\n",
       "Pedestrian and Cyclist Count          0\n",
       "Weather Conditions                    0\n",
       "Roadwork and Construction Activity    0\n",
       "dtype: int64"
      ]
     },
     "execution_count": 18,
     "metadata": {},
     "output_type": "execute_result"
    }
   ],
   "source": [
    "df.isnull().sum()"
   ]
  },
  {
   "cell_type": "markdown",
   "metadata": {},
   "source": [
    "Heatmap"
   ]
  },
  {
   "cell_type": "code",
   "execution_count": 20,
   "metadata": {},
   "outputs": [
    {
     "data": {
      "application/vnd.plotly.v1+json": {
       "config": {
        "plotlyServerURL": "https://plot.ly"
       },
       "data": [
        {
         "coloraxis": "coloraxis",
         "hovertemplate": "Road/Intersection Name: %{x}<br>Area Name: %{y}<br>Traffic Volume: %{z}<extra></extra>",
         "name": "0",
         "type": "heatmap",
         "x": [
          "100 Feet Road",
          "Anil Kumble Circle",
          "Ballari Road",
          "CMH Road",
          "Hebbal Flyover",
          "Hosur Road",
          "ITPL Main Road",
          "Jayanagar 4th Block",
          "Marathahalli Bridge",
          "Sarjapur Road",
          "Silk Board Junction",
          "Sony World Junction",
          "South End Circle",
          "Trinity Circle",
          "Tumkur Road",
          "Yeshwanthpur Circle"
         ],
         "xaxis": "x",
         "y": [
          "Electronic City",
          "Hebbal",
          "Indiranagar",
          "Jayanagar",
          "Koramangala",
          "M.G. Road",
          "Whitefield",
          "Yeshwanthpur"
         ],
         "yaxis": "y",
         "z": [
          [
           null,
           null,
           null,
           null,
           null,
           4586351,
           null,
           null,
           null,
           null,
           4436997,
           null,
           null,
           null,
           null,
           null
          ],
          [
           null,
           null,
           12505777,
           null,
           12700794,
           null,
           null,
           null,
           null,
           null,
           null,
           null,
           null,
           null,
           null,
           null
          ],
          [
           27482893,
           null,
           null,
           28046255,
           null,
           null,
           null,
           null,
           null,
           null,
           null,
           null,
           null,
           null,
           null,
           null
          ],
          [
           null,
           null,
           null,
           null,
           null,
           null,
           null,
           14207817,
           null,
           null,
           null,
           null,
           14649543,
           null,
           null,
           null
          ],
          [
           null,
           null,
           null,
           null,
           null,
           null,
           null,
           null,
           null,
           27329166,
           null,
           28366028,
           null,
           null,
           null,
           null
          ],
          [
           null,
           26756138,
           null,
           null,
           null,
           null,
           null,
           null,
           null,
           null,
           null,
           null,
           null,
           26229802,
           null,
           null
          ],
          [
           null,
           null,
           null,
           null,
           null,
           null,
           9839717,
           null,
           10220293,
           null,
           null,
           null,
           null,
           null,
           null,
           null
          ],
          [
           null,
           null,
           null,
           null,
           null,
           null,
           null,
           null,
           null,
           null,
           null,
           null,
           null,
           null,
           6705391,
           7190364
          ]
         ]
        }
       ],
       "layout": {
        "coloraxis": {
         "colorbar": {
          "title": {
           "text": "Traffic Volume"
          }
         },
         "colorscale": [
          [
           0,
           "#0d0887"
          ],
          [
           0.1111111111111111,
           "#46039f"
          ],
          [
           0.2222222222222222,
           "#7201a8"
          ],
          [
           0.3333333333333333,
           "#9c179e"
          ],
          [
           0.4444444444444444,
           "#bd3786"
          ],
          [
           0.5555555555555556,
           "#d8576b"
          ],
          [
           0.6666666666666666,
           "#ed7953"
          ],
          [
           0.7777777777777778,
           "#fb9f3a"
          ],
          [
           0.8888888888888888,
           "#fdca26"
          ],
          [
           1,
           "#f0f921"
          ]
         ]
        },
        "template": {
         "data": {
          "bar": [
           {
            "error_x": {
             "color": "#2a3f5f"
            },
            "error_y": {
             "color": "#2a3f5f"
            },
            "marker": {
             "line": {
              "color": "#E5ECF6",
              "width": 0.5
             },
             "pattern": {
              "fillmode": "overlay",
              "size": 10,
              "solidity": 0.2
             }
            },
            "type": "bar"
           }
          ],
          "barpolar": [
           {
            "marker": {
             "line": {
              "color": "#E5ECF6",
              "width": 0.5
             },
             "pattern": {
              "fillmode": "overlay",
              "size": 10,
              "solidity": 0.2
             }
            },
            "type": "barpolar"
           }
          ],
          "carpet": [
           {
            "aaxis": {
             "endlinecolor": "#2a3f5f",
             "gridcolor": "white",
             "linecolor": "white",
             "minorgridcolor": "white",
             "startlinecolor": "#2a3f5f"
            },
            "baxis": {
             "endlinecolor": "#2a3f5f",
             "gridcolor": "white",
             "linecolor": "white",
             "minorgridcolor": "white",
             "startlinecolor": "#2a3f5f"
            },
            "type": "carpet"
           }
          ],
          "choropleth": [
           {
            "colorbar": {
             "outlinewidth": 0,
             "ticks": ""
            },
            "type": "choropleth"
           }
          ],
          "contour": [
           {
            "colorbar": {
             "outlinewidth": 0,
             "ticks": ""
            },
            "colorscale": [
             [
              0,
              "#0d0887"
             ],
             [
              0.1111111111111111,
              "#46039f"
             ],
             [
              0.2222222222222222,
              "#7201a8"
             ],
             [
              0.3333333333333333,
              "#9c179e"
             ],
             [
              0.4444444444444444,
              "#bd3786"
             ],
             [
              0.5555555555555556,
              "#d8576b"
             ],
             [
              0.6666666666666666,
              "#ed7953"
             ],
             [
              0.7777777777777778,
              "#fb9f3a"
             ],
             [
              0.8888888888888888,
              "#fdca26"
             ],
             [
              1,
              "#f0f921"
             ]
            ],
            "type": "contour"
           }
          ],
          "contourcarpet": [
           {
            "colorbar": {
             "outlinewidth": 0,
             "ticks": ""
            },
            "type": "contourcarpet"
           }
          ],
          "heatmap": [
           {
            "colorbar": {
             "outlinewidth": 0,
             "ticks": ""
            },
            "colorscale": [
             [
              0,
              "#0d0887"
             ],
             [
              0.1111111111111111,
              "#46039f"
             ],
             [
              0.2222222222222222,
              "#7201a8"
             ],
             [
              0.3333333333333333,
              "#9c179e"
             ],
             [
              0.4444444444444444,
              "#bd3786"
             ],
             [
              0.5555555555555556,
              "#d8576b"
             ],
             [
              0.6666666666666666,
              "#ed7953"
             ],
             [
              0.7777777777777778,
              "#fb9f3a"
             ],
             [
              0.8888888888888888,
              "#fdca26"
             ],
             [
              1,
              "#f0f921"
             ]
            ],
            "type": "heatmap"
           }
          ],
          "heatmapgl": [
           {
            "colorbar": {
             "outlinewidth": 0,
             "ticks": ""
            },
            "colorscale": [
             [
              0,
              "#0d0887"
             ],
             [
              0.1111111111111111,
              "#46039f"
             ],
             [
              0.2222222222222222,
              "#7201a8"
             ],
             [
              0.3333333333333333,
              "#9c179e"
             ],
             [
              0.4444444444444444,
              "#bd3786"
             ],
             [
              0.5555555555555556,
              "#d8576b"
             ],
             [
              0.6666666666666666,
              "#ed7953"
             ],
             [
              0.7777777777777778,
              "#fb9f3a"
             ],
             [
              0.8888888888888888,
              "#fdca26"
             ],
             [
              1,
              "#f0f921"
             ]
            ],
            "type": "heatmapgl"
           }
          ],
          "histogram": [
           {
            "marker": {
             "pattern": {
              "fillmode": "overlay",
              "size": 10,
              "solidity": 0.2
             }
            },
            "type": "histogram"
           }
          ],
          "histogram2d": [
           {
            "colorbar": {
             "outlinewidth": 0,
             "ticks": ""
            },
            "colorscale": [
             [
              0,
              "#0d0887"
             ],
             [
              0.1111111111111111,
              "#46039f"
             ],
             [
              0.2222222222222222,
              "#7201a8"
             ],
             [
              0.3333333333333333,
              "#9c179e"
             ],
             [
              0.4444444444444444,
              "#bd3786"
             ],
             [
              0.5555555555555556,
              "#d8576b"
             ],
             [
              0.6666666666666666,
              "#ed7953"
             ],
             [
              0.7777777777777778,
              "#fb9f3a"
             ],
             [
              0.8888888888888888,
              "#fdca26"
             ],
             [
              1,
              "#f0f921"
             ]
            ],
            "type": "histogram2d"
           }
          ],
          "histogram2dcontour": [
           {
            "colorbar": {
             "outlinewidth": 0,
             "ticks": ""
            },
            "colorscale": [
             [
              0,
              "#0d0887"
             ],
             [
              0.1111111111111111,
              "#46039f"
             ],
             [
              0.2222222222222222,
              "#7201a8"
             ],
             [
              0.3333333333333333,
              "#9c179e"
             ],
             [
              0.4444444444444444,
              "#bd3786"
             ],
             [
              0.5555555555555556,
              "#d8576b"
             ],
             [
              0.6666666666666666,
              "#ed7953"
             ],
             [
              0.7777777777777778,
              "#fb9f3a"
             ],
             [
              0.8888888888888888,
              "#fdca26"
             ],
             [
              1,
              "#f0f921"
             ]
            ],
            "type": "histogram2dcontour"
           }
          ],
          "mesh3d": [
           {
            "colorbar": {
             "outlinewidth": 0,
             "ticks": ""
            },
            "type": "mesh3d"
           }
          ],
          "parcoords": [
           {
            "line": {
             "colorbar": {
              "outlinewidth": 0,
              "ticks": ""
             }
            },
            "type": "parcoords"
           }
          ],
          "pie": [
           {
            "automargin": true,
            "type": "pie"
           }
          ],
          "scatter": [
           {
            "fillpattern": {
             "fillmode": "overlay",
             "size": 10,
             "solidity": 0.2
            },
            "type": "scatter"
           }
          ],
          "scatter3d": [
           {
            "line": {
             "colorbar": {
              "outlinewidth": 0,
              "ticks": ""
             }
            },
            "marker": {
             "colorbar": {
              "outlinewidth": 0,
              "ticks": ""
             }
            },
            "type": "scatter3d"
           }
          ],
          "scattercarpet": [
           {
            "marker": {
             "colorbar": {
              "outlinewidth": 0,
              "ticks": ""
             }
            },
            "type": "scattercarpet"
           }
          ],
          "scattergeo": [
           {
            "marker": {
             "colorbar": {
              "outlinewidth": 0,
              "ticks": ""
             }
            },
            "type": "scattergeo"
           }
          ],
          "scattergl": [
           {
            "marker": {
             "colorbar": {
              "outlinewidth": 0,
              "ticks": ""
             }
            },
            "type": "scattergl"
           }
          ],
          "scattermapbox": [
           {
            "marker": {
             "colorbar": {
              "outlinewidth": 0,
              "ticks": ""
             }
            },
            "type": "scattermapbox"
           }
          ],
          "scatterpolar": [
           {
            "marker": {
             "colorbar": {
              "outlinewidth": 0,
              "ticks": ""
             }
            },
            "type": "scatterpolar"
           }
          ],
          "scatterpolargl": [
           {
            "marker": {
             "colorbar": {
              "outlinewidth": 0,
              "ticks": ""
             }
            },
            "type": "scatterpolargl"
           }
          ],
          "scatterternary": [
           {
            "marker": {
             "colorbar": {
              "outlinewidth": 0,
              "ticks": ""
             }
            },
            "type": "scatterternary"
           }
          ],
          "surface": [
           {
            "colorbar": {
             "outlinewidth": 0,
             "ticks": ""
            },
            "colorscale": [
             [
              0,
              "#0d0887"
             ],
             [
              0.1111111111111111,
              "#46039f"
             ],
             [
              0.2222222222222222,
              "#7201a8"
             ],
             [
              0.3333333333333333,
              "#9c179e"
             ],
             [
              0.4444444444444444,
              "#bd3786"
             ],
             [
              0.5555555555555556,
              "#d8576b"
             ],
             [
              0.6666666666666666,
              "#ed7953"
             ],
             [
              0.7777777777777778,
              "#fb9f3a"
             ],
             [
              0.8888888888888888,
              "#fdca26"
             ],
             [
              1,
              "#f0f921"
             ]
            ],
            "type": "surface"
           }
          ],
          "table": [
           {
            "cells": {
             "fill": {
              "color": "#EBF0F8"
             },
             "line": {
              "color": "white"
             }
            },
            "header": {
             "fill": {
              "color": "#C8D4E3"
             },
             "line": {
              "color": "white"
             }
            },
            "type": "table"
           }
          ]
         },
         "layout": {
          "annotationdefaults": {
           "arrowcolor": "#2a3f5f",
           "arrowhead": 0,
           "arrowwidth": 1
          },
          "autotypenumbers": "strict",
          "coloraxis": {
           "colorbar": {
            "outlinewidth": 0,
            "ticks": ""
           }
          },
          "colorscale": {
           "diverging": [
            [
             0,
             "#8e0152"
            ],
            [
             0.1,
             "#c51b7d"
            ],
            [
             0.2,
             "#de77ae"
            ],
            [
             0.3,
             "#f1b6da"
            ],
            [
             0.4,
             "#fde0ef"
            ],
            [
             0.5,
             "#f7f7f7"
            ],
            [
             0.6,
             "#e6f5d0"
            ],
            [
             0.7,
             "#b8e186"
            ],
            [
             0.8,
             "#7fbc41"
            ],
            [
             0.9,
             "#4d9221"
            ],
            [
             1,
             "#276419"
            ]
           ],
           "sequential": [
            [
             0,
             "#0d0887"
            ],
            [
             0.1111111111111111,
             "#46039f"
            ],
            [
             0.2222222222222222,
             "#7201a8"
            ],
            [
             0.3333333333333333,
             "#9c179e"
            ],
            [
             0.4444444444444444,
             "#bd3786"
            ],
            [
             0.5555555555555556,
             "#d8576b"
            ],
            [
             0.6666666666666666,
             "#ed7953"
            ],
            [
             0.7777777777777778,
             "#fb9f3a"
            ],
            [
             0.8888888888888888,
             "#fdca26"
            ],
            [
             1,
             "#f0f921"
            ]
           ],
           "sequentialminus": [
            [
             0,
             "#0d0887"
            ],
            [
             0.1111111111111111,
             "#46039f"
            ],
            [
             0.2222222222222222,
             "#7201a8"
            ],
            [
             0.3333333333333333,
             "#9c179e"
            ],
            [
             0.4444444444444444,
             "#bd3786"
            ],
            [
             0.5555555555555556,
             "#d8576b"
            ],
            [
             0.6666666666666666,
             "#ed7953"
            ],
            [
             0.7777777777777778,
             "#fb9f3a"
            ],
            [
             0.8888888888888888,
             "#fdca26"
            ],
            [
             1,
             "#f0f921"
            ]
           ]
          },
          "colorway": [
           "#636efa",
           "#EF553B",
           "#00cc96",
           "#ab63fa",
           "#FFA15A",
           "#19d3f3",
           "#FF6692",
           "#B6E880",
           "#FF97FF",
           "#FECB52"
          ],
          "font": {
           "color": "#2a3f5f"
          },
          "geo": {
           "bgcolor": "white",
           "lakecolor": "white",
           "landcolor": "#E5ECF6",
           "showlakes": true,
           "showland": true,
           "subunitcolor": "white"
          },
          "hoverlabel": {
           "align": "left"
          },
          "hovermode": "closest",
          "mapbox": {
           "style": "light"
          },
          "paper_bgcolor": "white",
          "plot_bgcolor": "#E5ECF6",
          "polar": {
           "angularaxis": {
            "gridcolor": "white",
            "linecolor": "white",
            "ticks": ""
           },
           "bgcolor": "#E5ECF6",
           "radialaxis": {
            "gridcolor": "white",
            "linecolor": "white",
            "ticks": ""
           }
          },
          "scene": {
           "xaxis": {
            "backgroundcolor": "#E5ECF6",
            "gridcolor": "white",
            "gridwidth": 2,
            "linecolor": "white",
            "showbackground": true,
            "ticks": "",
            "zerolinecolor": "white"
           },
           "yaxis": {
            "backgroundcolor": "#E5ECF6",
            "gridcolor": "white",
            "gridwidth": 2,
            "linecolor": "white",
            "showbackground": true,
            "ticks": "",
            "zerolinecolor": "white"
           },
           "zaxis": {
            "backgroundcolor": "#E5ECF6",
            "gridcolor": "white",
            "gridwidth": 2,
            "linecolor": "white",
            "showbackground": true,
            "ticks": "",
            "zerolinecolor": "white"
           }
          },
          "shapedefaults": {
           "line": {
            "color": "#2a3f5f"
           }
          },
          "ternary": {
           "aaxis": {
            "gridcolor": "white",
            "linecolor": "white",
            "ticks": ""
           },
           "baxis": {
            "gridcolor": "white",
            "linecolor": "white",
            "ticks": ""
           },
           "bgcolor": "#E5ECF6",
           "caxis": {
            "gridcolor": "white",
            "linecolor": "white",
            "ticks": ""
           }
          },
          "title": {
           "x": 0.05
          },
          "xaxis": {
           "automargin": true,
           "gridcolor": "white",
           "linecolor": "white",
           "ticks": "",
           "title": {
            "standoff": 15
           },
           "zerolinecolor": "white",
           "zerolinewidth": 2
          },
          "yaxis": {
           "automargin": true,
           "gridcolor": "white",
           "linecolor": "white",
           "ticks": "",
           "title": {
            "standoff": 15
           },
           "zerolinecolor": "white",
           "zerolinewidth": 2
          }
         }
        },
        "title": {
         "text": "Heatmap of Traffic Volume Across Areas and Roads"
        },
        "xaxis": {
         "anchor": "y",
         "constrain": "domain",
         "domain": [
          0,
          1
         ],
         "scaleanchor": "y",
         "title": {
          "text": "Road/Intersection Name"
         }
        },
        "yaxis": {
         "anchor": "x",
         "autorange": "reversed",
         "constrain": "domain",
         "domain": [
          0,
          1
         ],
         "title": {
          "text": "Area Name"
         }
        }
       }
      },
      "text/html": [
       "<div>                            <div id=\"aa306d05-a721-4674-a0ab-def1802201d8\" class=\"plotly-graph-div\" style=\"height:525px; width:100%;\"></div>            <script type=\"text/javascript\">                require([\"plotly\"], function(Plotly) {                    window.PLOTLYENV=window.PLOTLYENV || {};                                    if (document.getElementById(\"aa306d05-a721-4674-a0ab-def1802201d8\")) {                    Plotly.newPlot(                        \"aa306d05-a721-4674-a0ab-def1802201d8\",                        [{\"coloraxis\":\"coloraxis\",\"name\":\"0\",\"x\":[\"100 Feet Road\",\"Anil Kumble Circle\",\"Ballari Road\",\"CMH Road\",\"Hebbal Flyover\",\"Hosur Road\",\"ITPL Main Road\",\"Jayanagar 4th Block\",\"Marathahalli Bridge\",\"Sarjapur Road\",\"Silk Board Junction\",\"Sony World Junction\",\"South End Circle\",\"Trinity Circle\",\"Tumkur Road\",\"Yeshwanthpur Circle\"],\"y\":[\"Electronic City\",\"Hebbal\",\"Indiranagar\",\"Jayanagar\",\"Koramangala\",\"M.G. Road\",\"Whitefield\",\"Yeshwanthpur\"],\"z\":[[null,null,null,null,null,4586351.0,null,null,null,null,4436997.0,null,null,null,null,null],[null,null,12505777.0,null,12700794.0,null,null,null,null,null,null,null,null,null,null,null],[27482893.0,null,null,28046255.0,null,null,null,null,null,null,null,null,null,null,null,null],[null,null,null,null,null,null,null,14207817.0,null,null,null,null,14649543.0,null,null,null],[null,null,null,null,null,null,null,null,null,27329166.0,null,28366028.0,null,null,null,null],[null,26756138.0,null,null,null,null,null,null,null,null,null,null,null,26229802.0,null,null],[null,null,null,null,null,null,9839717.0,null,10220293.0,null,null,null,null,null,null,null],[null,null,null,null,null,null,null,null,null,null,null,null,null,null,6705391.0,7190364.0]],\"type\":\"heatmap\",\"xaxis\":\"x\",\"yaxis\":\"y\",\"hovertemplate\":\"Road\\u002fIntersection Name: %{x}\\u003cbr\\u003eArea Name: %{y}\\u003cbr\\u003eTraffic Volume: %{z}\\u003cextra\\u003e\\u003c\\u002fextra\\u003e\"}],                        {\"template\":{\"data\":{\"histogram2dcontour\":[{\"type\":\"histogram2dcontour\",\"colorbar\":{\"outlinewidth\":0,\"ticks\":\"\"},\"colorscale\":[[0.0,\"#0d0887\"],[0.1111111111111111,\"#46039f\"],[0.2222222222222222,\"#7201a8\"],[0.3333333333333333,\"#9c179e\"],[0.4444444444444444,\"#bd3786\"],[0.5555555555555556,\"#d8576b\"],[0.6666666666666666,\"#ed7953\"],[0.7777777777777778,\"#fb9f3a\"],[0.8888888888888888,\"#fdca26\"],[1.0,\"#f0f921\"]]}],\"choropleth\":[{\"type\":\"choropleth\",\"colorbar\":{\"outlinewidth\":0,\"ticks\":\"\"}}],\"histogram2d\":[{\"type\":\"histogram2d\",\"colorbar\":{\"outlinewidth\":0,\"ticks\":\"\"},\"colorscale\":[[0.0,\"#0d0887\"],[0.1111111111111111,\"#46039f\"],[0.2222222222222222,\"#7201a8\"],[0.3333333333333333,\"#9c179e\"],[0.4444444444444444,\"#bd3786\"],[0.5555555555555556,\"#d8576b\"],[0.6666666666666666,\"#ed7953\"],[0.7777777777777778,\"#fb9f3a\"],[0.8888888888888888,\"#fdca26\"],[1.0,\"#f0f921\"]]}],\"heatmap\":[{\"type\":\"heatmap\",\"colorbar\":{\"outlinewidth\":0,\"ticks\":\"\"},\"colorscale\":[[0.0,\"#0d0887\"],[0.1111111111111111,\"#46039f\"],[0.2222222222222222,\"#7201a8\"],[0.3333333333333333,\"#9c179e\"],[0.4444444444444444,\"#bd3786\"],[0.5555555555555556,\"#d8576b\"],[0.6666666666666666,\"#ed7953\"],[0.7777777777777778,\"#fb9f3a\"],[0.8888888888888888,\"#fdca26\"],[1.0,\"#f0f921\"]]}],\"heatmapgl\":[{\"type\":\"heatmapgl\",\"colorbar\":{\"outlinewidth\":0,\"ticks\":\"\"},\"colorscale\":[[0.0,\"#0d0887\"],[0.1111111111111111,\"#46039f\"],[0.2222222222222222,\"#7201a8\"],[0.3333333333333333,\"#9c179e\"],[0.4444444444444444,\"#bd3786\"],[0.5555555555555556,\"#d8576b\"],[0.6666666666666666,\"#ed7953\"],[0.7777777777777778,\"#fb9f3a\"],[0.8888888888888888,\"#fdca26\"],[1.0,\"#f0f921\"]]}],\"contourcarpet\":[{\"type\":\"contourcarpet\",\"colorbar\":{\"outlinewidth\":0,\"ticks\":\"\"}}],\"contour\":[{\"type\":\"contour\",\"colorbar\":{\"outlinewidth\":0,\"ticks\":\"\"},\"colorscale\":[[0.0,\"#0d0887\"],[0.1111111111111111,\"#46039f\"],[0.2222222222222222,\"#7201a8\"],[0.3333333333333333,\"#9c179e\"],[0.4444444444444444,\"#bd3786\"],[0.5555555555555556,\"#d8576b\"],[0.6666666666666666,\"#ed7953\"],[0.7777777777777778,\"#fb9f3a\"],[0.8888888888888888,\"#fdca26\"],[1.0,\"#f0f921\"]]}],\"surface\":[{\"type\":\"surface\",\"colorbar\":{\"outlinewidth\":0,\"ticks\":\"\"},\"colorscale\":[[0.0,\"#0d0887\"],[0.1111111111111111,\"#46039f\"],[0.2222222222222222,\"#7201a8\"],[0.3333333333333333,\"#9c179e\"],[0.4444444444444444,\"#bd3786\"],[0.5555555555555556,\"#d8576b\"],[0.6666666666666666,\"#ed7953\"],[0.7777777777777778,\"#fb9f3a\"],[0.8888888888888888,\"#fdca26\"],[1.0,\"#f0f921\"]]}],\"mesh3d\":[{\"type\":\"mesh3d\",\"colorbar\":{\"outlinewidth\":0,\"ticks\":\"\"}}],\"scatter\":[{\"fillpattern\":{\"fillmode\":\"overlay\",\"size\":10,\"solidity\":0.2},\"type\":\"scatter\"}],\"parcoords\":[{\"type\":\"parcoords\",\"line\":{\"colorbar\":{\"outlinewidth\":0,\"ticks\":\"\"}}}],\"scatterpolargl\":[{\"type\":\"scatterpolargl\",\"marker\":{\"colorbar\":{\"outlinewidth\":0,\"ticks\":\"\"}}}],\"bar\":[{\"error_x\":{\"color\":\"#2a3f5f\"},\"error_y\":{\"color\":\"#2a3f5f\"},\"marker\":{\"line\":{\"color\":\"#E5ECF6\",\"width\":0.5},\"pattern\":{\"fillmode\":\"overlay\",\"size\":10,\"solidity\":0.2}},\"type\":\"bar\"}],\"scattergeo\":[{\"type\":\"scattergeo\",\"marker\":{\"colorbar\":{\"outlinewidth\":0,\"ticks\":\"\"}}}],\"scatterpolar\":[{\"type\":\"scatterpolar\",\"marker\":{\"colorbar\":{\"outlinewidth\":0,\"ticks\":\"\"}}}],\"histogram\":[{\"marker\":{\"pattern\":{\"fillmode\":\"overlay\",\"size\":10,\"solidity\":0.2}},\"type\":\"histogram\"}],\"scattergl\":[{\"type\":\"scattergl\",\"marker\":{\"colorbar\":{\"outlinewidth\":0,\"ticks\":\"\"}}}],\"scatter3d\":[{\"type\":\"scatter3d\",\"line\":{\"colorbar\":{\"outlinewidth\":0,\"ticks\":\"\"}},\"marker\":{\"colorbar\":{\"outlinewidth\":0,\"ticks\":\"\"}}}],\"scattermapbox\":[{\"type\":\"scattermapbox\",\"marker\":{\"colorbar\":{\"outlinewidth\":0,\"ticks\":\"\"}}}],\"scatterternary\":[{\"type\":\"scatterternary\",\"marker\":{\"colorbar\":{\"outlinewidth\":0,\"ticks\":\"\"}}}],\"scattercarpet\":[{\"type\":\"scattercarpet\",\"marker\":{\"colorbar\":{\"outlinewidth\":0,\"ticks\":\"\"}}}],\"carpet\":[{\"aaxis\":{\"endlinecolor\":\"#2a3f5f\",\"gridcolor\":\"white\",\"linecolor\":\"white\",\"minorgridcolor\":\"white\",\"startlinecolor\":\"#2a3f5f\"},\"baxis\":{\"endlinecolor\":\"#2a3f5f\",\"gridcolor\":\"white\",\"linecolor\":\"white\",\"minorgridcolor\":\"white\",\"startlinecolor\":\"#2a3f5f\"},\"type\":\"carpet\"}],\"table\":[{\"cells\":{\"fill\":{\"color\":\"#EBF0F8\"},\"line\":{\"color\":\"white\"}},\"header\":{\"fill\":{\"color\":\"#C8D4E3\"},\"line\":{\"color\":\"white\"}},\"type\":\"table\"}],\"barpolar\":[{\"marker\":{\"line\":{\"color\":\"#E5ECF6\",\"width\":0.5},\"pattern\":{\"fillmode\":\"overlay\",\"size\":10,\"solidity\":0.2}},\"type\":\"barpolar\"}],\"pie\":[{\"automargin\":true,\"type\":\"pie\"}]},\"layout\":{\"autotypenumbers\":\"strict\",\"colorway\":[\"#636efa\",\"#EF553B\",\"#00cc96\",\"#ab63fa\",\"#FFA15A\",\"#19d3f3\",\"#FF6692\",\"#B6E880\",\"#FF97FF\",\"#FECB52\"],\"font\":{\"color\":\"#2a3f5f\"},\"hovermode\":\"closest\",\"hoverlabel\":{\"align\":\"left\"},\"paper_bgcolor\":\"white\",\"plot_bgcolor\":\"#E5ECF6\",\"polar\":{\"bgcolor\":\"#E5ECF6\",\"angularaxis\":{\"gridcolor\":\"white\",\"linecolor\":\"white\",\"ticks\":\"\"},\"radialaxis\":{\"gridcolor\":\"white\",\"linecolor\":\"white\",\"ticks\":\"\"}},\"ternary\":{\"bgcolor\":\"#E5ECF6\",\"aaxis\":{\"gridcolor\":\"white\",\"linecolor\":\"white\",\"ticks\":\"\"},\"baxis\":{\"gridcolor\":\"white\",\"linecolor\":\"white\",\"ticks\":\"\"},\"caxis\":{\"gridcolor\":\"white\",\"linecolor\":\"white\",\"ticks\":\"\"}},\"coloraxis\":{\"colorbar\":{\"outlinewidth\":0,\"ticks\":\"\"}},\"colorscale\":{\"sequential\":[[0.0,\"#0d0887\"],[0.1111111111111111,\"#46039f\"],[0.2222222222222222,\"#7201a8\"],[0.3333333333333333,\"#9c179e\"],[0.4444444444444444,\"#bd3786\"],[0.5555555555555556,\"#d8576b\"],[0.6666666666666666,\"#ed7953\"],[0.7777777777777778,\"#fb9f3a\"],[0.8888888888888888,\"#fdca26\"],[1.0,\"#f0f921\"]],\"sequentialminus\":[[0.0,\"#0d0887\"],[0.1111111111111111,\"#46039f\"],[0.2222222222222222,\"#7201a8\"],[0.3333333333333333,\"#9c179e\"],[0.4444444444444444,\"#bd3786\"],[0.5555555555555556,\"#d8576b\"],[0.6666666666666666,\"#ed7953\"],[0.7777777777777778,\"#fb9f3a\"],[0.8888888888888888,\"#fdca26\"],[1.0,\"#f0f921\"]],\"diverging\":[[0,\"#8e0152\"],[0.1,\"#c51b7d\"],[0.2,\"#de77ae\"],[0.3,\"#f1b6da\"],[0.4,\"#fde0ef\"],[0.5,\"#f7f7f7\"],[0.6,\"#e6f5d0\"],[0.7,\"#b8e186\"],[0.8,\"#7fbc41\"],[0.9,\"#4d9221\"],[1,\"#276419\"]]},\"xaxis\":{\"gridcolor\":\"white\",\"linecolor\":\"white\",\"ticks\":\"\",\"title\":{\"standoff\":15},\"zerolinecolor\":\"white\",\"automargin\":true,\"zerolinewidth\":2},\"yaxis\":{\"gridcolor\":\"white\",\"linecolor\":\"white\",\"ticks\":\"\",\"title\":{\"standoff\":15},\"zerolinecolor\":\"white\",\"automargin\":true,\"zerolinewidth\":2},\"scene\":{\"xaxis\":{\"backgroundcolor\":\"#E5ECF6\",\"gridcolor\":\"white\",\"linecolor\":\"white\",\"showbackground\":true,\"ticks\":\"\",\"zerolinecolor\":\"white\",\"gridwidth\":2},\"yaxis\":{\"backgroundcolor\":\"#E5ECF6\",\"gridcolor\":\"white\",\"linecolor\":\"white\",\"showbackground\":true,\"ticks\":\"\",\"zerolinecolor\":\"white\",\"gridwidth\":2},\"zaxis\":{\"backgroundcolor\":\"#E5ECF6\",\"gridcolor\":\"white\",\"linecolor\":\"white\",\"showbackground\":true,\"ticks\":\"\",\"zerolinecolor\":\"white\",\"gridwidth\":2}},\"shapedefaults\":{\"line\":{\"color\":\"#2a3f5f\"}},\"annotationdefaults\":{\"arrowcolor\":\"#2a3f5f\",\"arrowhead\":0,\"arrowwidth\":1},\"geo\":{\"bgcolor\":\"white\",\"landcolor\":\"#E5ECF6\",\"subunitcolor\":\"white\",\"showland\":true,\"showlakes\":true,\"lakecolor\":\"white\"},\"title\":{\"x\":0.05},\"mapbox\":{\"style\":\"light\"}}},\"xaxis\":{\"anchor\":\"y\",\"domain\":[0.0,1.0],\"scaleanchor\":\"y\",\"constrain\":\"domain\",\"title\":{\"text\":\"Road\\u002fIntersection Name\"}},\"yaxis\":{\"anchor\":\"x\",\"domain\":[0.0,1.0],\"autorange\":\"reversed\",\"constrain\":\"domain\",\"title\":{\"text\":\"Area Name\"}},\"coloraxis\":{\"colorbar\":{\"title\":{\"text\":\"Traffic Volume\"}},\"colorscale\":[[0.0,\"#0d0887\"],[0.1111111111111111,\"#46039f\"],[0.2222222222222222,\"#7201a8\"],[0.3333333333333333,\"#9c179e\"],[0.4444444444444444,\"#bd3786\"],[0.5555555555555556,\"#d8576b\"],[0.6666666666666666,\"#ed7953\"],[0.7777777777777778,\"#fb9f3a\"],[0.8888888888888888,\"#fdca26\"],[1.0,\"#f0f921\"]]},\"title\":{\"text\":\"Heatmap of Traffic Volume Across Areas and Roads\"}},                        {\"responsive\": true}                    ).then(function(){\n",
       "                            \n",
       "var gd = document.getElementById('aa306d05-a721-4674-a0ab-def1802201d8');\n",
       "var x = new MutationObserver(function (mutations, observer) {{\n",
       "        var display = window.getComputedStyle(gd).display;\n",
       "        if (!display || display === 'none') {{\n",
       "            console.log([gd, 'removed!']);\n",
       "            Plotly.purge(gd);\n",
       "            observer.disconnect();\n",
       "        }}\n",
       "}});\n",
       "\n",
       "// Listen for the removal of the full notebook cells\n",
       "var notebookContainer = gd.closest('#notebook-container');\n",
       "if (notebookContainer) {{\n",
       "    x.observe(notebookContainer, {childList: true});\n",
       "}}\n",
       "\n",
       "// Listen for the clearing of the current output cell\n",
       "var outputEl = gd.closest('.output');\n",
       "if (outputEl) {{\n",
       "    x.observe(outputEl, {childList: true});\n",
       "}}\n",
       "\n",
       "                        })                };                });            </script>        </div>"
      ]
     },
     "metadata": {},
     "output_type": "display_data"
    }
   ],
   "source": [
    "import plotly.express as px\n",
    "\n",
    "heatmap_data = df.pivot_table(values='Traffic Volume', index='Area Name', columns='Road/Intersection Name', aggfunc='sum')\n",
    "\n",
    "fig = px.imshow(heatmap_data, labels=dict(x=\"Road/Intersection Name\", y=\"Area Name\", color=\"Traffic Volume\"),\n",
    "                title=\"Heatmap of Traffic Volume Across Areas and Roads\")\n",
    "\n",
    "fig.show()\n"
   ]
  },
  {
   "cell_type": "code",
   "execution_count": null,
   "metadata": {},
   "outputs": [],
   "source": []
  }
 ],
 "metadata": {
  "kernelspec": {
   "display_name": "Python 3 (ipykernel)",
   "language": "python",
   "name": "python3"
  },
  "language_info": {
   "codemirror_mode": {
    "name": "ipython",
    "version": 3
   },
   "file_extension": ".py",
   "mimetype": "text/x-python",
   "name": "python",
   "nbconvert_exporter": "python",
   "pygments_lexer": "ipython3",
   "version": "3.12.4"
  }
 },
 "nbformat": 4,
 "nbformat_minor": 2
}
